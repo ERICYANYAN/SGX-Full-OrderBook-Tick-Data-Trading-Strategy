{
 "cells": [
  {
   "cell_type": "markdown",
   "metadata": {},
   "source": [
    "### Modeling High-Frequency Limit Order Book Dynamics Using Machine Learning "
   ]
  },
  {
   "cell_type": "code",
   "execution_count": 69,
   "metadata": {
    "collapsed": false,
    "ExecuteTime": {
     "end_time": "2024-06-01T15:50:21.631806Z",
     "start_time": "2024-06-01T15:50:21.489009Z"
    }
   },
   "outputs": [
    {
     "name": "stdout",
     "output_type": "stream",
     "text": [
      "%pylab is deprecated, use %matplotlib inline and import the required libraries.\n",
      "Populating the interactive namespace from numpy and matplotlib\n"
     ]
    },
    {
     "name": "stderr",
     "output_type": "stream",
     "text": [
      "/Users/zengyan/anaconda3/envs/orderbook_ml/lib/python3.9/site-packages/IPython/core/magics/pylab.py:162: UserWarning: pylab import has clobbered these variables: ['mean']\n",
      "`%matplotlib` prevents importing * from pylab and numpy\n",
      "  warn(\"pylab import has clobbered these variables: %s\"  % clobbered +\n"
     ]
    }
   ],
   "source": [
    "from statistics import mean\n",
    "\n",
    "from matplotlib import pyplot as plt\n",
    "from matplotlib.pyplot import plot\n",
    "from numpy import std\n",
    "from sklearn.model_selection import GridSearchCV\n",
    "import seaborn as sns\n",
    "%pylab inline\n",
    "import pandas as pd\n",
    "import numpy as np\n",
    "import time\n",
    "from sklearn.ensemble import (RandomForestClassifier, ExtraTreesClassifier, AdaBoostClassifier,\\\n",
    "                              GradientBoostingClassifier)\n",
    "from sklearn.tree import DecisionTreeClassifier\n",
    "from sklearn.svm import SVC\n",
    "from sklearn import metrics\n",
    "from sklearn.linear_model import LogisticRegression\n"
   ]
  },
  {
   "cell_type": "code",
   "execution_count": 70,
   "metadata": {
    "collapsed": true,
    "ExecuteTime": {
     "end_time": "2024-06-01T15:50:21.646292Z",
     "start_time": "2024-06-01T15:50:21.493878Z"
    }
   },
   "outputs": [],
   "source": [
    "def read_csv(day_trade):\n",
    "    data_up = []\n",
    "    data_down = []\n",
    "    path = \"/Users/zengyan/Excelsior/SGX-Full-OrderBook-Tick-Data-Trading-Strategy/Data_Transformation/Train_Test_Builder/order_book_3_2014\"\n",
    "    # path = '/home/rory/Demo/Data_Transformation/Train_Test_Builder/order_book_3_2014'\n",
    "    for j,i in enumerate(day_trade):\n",
    "        for k in range(0,len(i),1):\n",
    "            path_up = path + '_' + str(j+1) + '_' + str(i[k]) + '_' + 'UP' + '.csv'\n",
    "            path_down = path + '_' + str(j+1) + '_' + str(i[k]) + '_' + 'DOWN' + '.csv'\n",
    "            data_up.append(pd.read_csv(path_up))\n",
    "            data_down.append(pd.read_csv(path_down))\n",
    "            #print path_down\n",
    "    return data_up,data_down"
   ]
  },
  {
   "cell_type": "markdown",
   "metadata": {},
   "source": [
    "### Example : 2014/1/2 "
   ]
  },
  {
   "cell_type": "code",
   "execution_count": 71,
   "metadata": {
    "collapsed": true,
    "ExecuteTime": {
     "end_time": "2024-06-01T15:50:21.647934Z",
     "start_time": "2024-06-01T15:50:21.496822Z"
    }
   },
   "outputs": [],
   "source": [
    "day_trade = [[2]]"
   ]
  },
  {
   "cell_type": "code",
   "execution_count": 72,
   "metadata": {
    "collapsed": false,
    "scrolled": true,
    "ExecuteTime": {
     "end_time": "2024-06-01T15:50:21.942139Z",
     "start_time": "2024-06-01T15:50:21.500157Z"
    }
   },
   "outputs": [],
   "source": [
    "data_2014_up, data_2014_down = read_csv(day_trade)"
   ]
  },
  {
   "cell_type": "markdown",
   "metadata": {},
   "source": [
    "### Column = 0 : label[0 : not traded,1 : traded] & Column = 1~ : Features values "
   ]
  },
  {
   "cell_type": "code",
   "execution_count": 73,
   "metadata": {
    "collapsed": false,
    "scrolled": true,
    "ExecuteTime": {
     "end_time": "2024-06-01T15:50:21.942872Z",
     "start_time": "2024-06-01T15:50:21.661852Z"
    }
   },
   "outputs": [
    {
     "data": {
      "text/plain": "     0        1        2        3        4        5        6        7  \\\n0  0.0  0.00000  0.00000  0.00000  0.00000  0.00000  0.00000  0.00000   \n1  0.0 -0.14065 -0.14065 -0.14065 -0.14065 -0.14065 -0.14065 -0.14065   \n2  0.0 -0.14065 -0.14065 -0.14065 -0.14065 -0.14065 -0.14065 -0.14065   \n3  0.0  0.21097  0.21097  0.21097  0.21097  0.21097  0.21097  0.21097   \n4  0.0  0.21097  0.21097  0.21097  0.21097  0.21097  0.21097  0.21097   \n5  0.0  0.21097  0.21097  0.21097  0.21097  0.21097  0.21097  0.21097   \n6  0.0  0.21097  0.21097  0.21097  0.21097  0.21097  0.21097  0.21097   \n7  0.0  0.21097  0.21097  0.21097  0.21097  0.21097  0.21097  0.21097   \n8  0.0  0.21097  0.21097  0.21097  0.21097  0.21097  0.21097  0.21097   \n9  0.0  0.21097  0.21097  0.21097  0.21097  0.21097  0.21097  0.21097   \n\n         8        9  ...        55        56        57        58        59  \\\n0  0.00000  0.00000  ...  1.000000  0.000000  0.897292 -0.054134  0.794007   \n1 -0.14065 -0.14065  ...  1.000000  0.000000  0.897292 -0.054134  0.794007   \n2 -0.14065 -0.14065  ...  1.000000  0.000000  0.897292 -0.054134  0.794007   \n3  0.21097  0.21097  ...  1.188710  0.086220  1.199119  0.090545  1.211650   \n4  0.21097  0.21097  ...  1.172581  0.079436  1.172687  0.079481  1.172816   \n5  0.21097  0.21097  ...  0.930645 -0.035923  0.908370 -0.048015  0.881553   \n6  0.21097  0.21097  ...  1.017742  0.008793  1.051101  0.024914  1.091262   \n7  0.21097  0.21097  ...  1.033871  0.016653  1.077533  0.037320  1.130097   \n8  0.21097  0.21097  ...  1.038710  0.018987  1.085463  0.040980  1.141748   \n9  0.21097  0.21097  ...  0.946269 -0.027607  0.935409 -0.033374  0.923577   \n\n         60        61        62        63        64  \n0 -0.114823  0.967576 -0.016479  0.913658 -0.045119  \n1 -0.114823  0.967576 -0.016479  0.913658 -0.045119  \n2 -0.114823  0.967576 -0.016479  0.913658 -0.045119  \n3  0.095698  1.254026  0.112699  1.246215  0.109613  \n4  0.079535  1.246706  0.109808  1.230279  0.103251  \n5 -0.062951  1.027086  0.013362  0.991235 -0.004402  \n6  0.043640  1.066618  0.032235  1.077291  0.037208  \n7  0.061076  1.073939  0.035651  1.093227  0.044537  \n8  0.066183  1.076135  0.036671  1.098008  0.046715  \n9 -0.039730  1.031073  0.015299  1.002214  0.001106  \n\n[10 rows x 65 columns]",
      "text/html": "<div>\n<style scoped>\n    .dataframe tbody tr th:only-of-type {\n        vertical-align: middle;\n    }\n\n    .dataframe tbody tr th {\n        vertical-align: top;\n    }\n\n    .dataframe thead th {\n        text-align: right;\n    }\n</style>\n<table border=\"1\" class=\"dataframe\">\n  <thead>\n    <tr style=\"text-align: right;\">\n      <th></th>\n      <th>0</th>\n      <th>1</th>\n      <th>2</th>\n      <th>3</th>\n      <th>4</th>\n      <th>5</th>\n      <th>6</th>\n      <th>7</th>\n      <th>8</th>\n      <th>9</th>\n      <th>...</th>\n      <th>55</th>\n      <th>56</th>\n      <th>57</th>\n      <th>58</th>\n      <th>59</th>\n      <th>60</th>\n      <th>61</th>\n      <th>62</th>\n      <th>63</th>\n      <th>64</th>\n    </tr>\n  </thead>\n  <tbody>\n    <tr>\n      <th>0</th>\n      <td>0.0</td>\n      <td>0.00000</td>\n      <td>0.00000</td>\n      <td>0.00000</td>\n      <td>0.00000</td>\n      <td>0.00000</td>\n      <td>0.00000</td>\n      <td>0.00000</td>\n      <td>0.00000</td>\n      <td>0.00000</td>\n      <td>...</td>\n      <td>1.000000</td>\n      <td>0.000000</td>\n      <td>0.897292</td>\n      <td>-0.054134</td>\n      <td>0.794007</td>\n      <td>-0.114823</td>\n      <td>0.967576</td>\n      <td>-0.016479</td>\n      <td>0.913658</td>\n      <td>-0.045119</td>\n    </tr>\n    <tr>\n      <th>1</th>\n      <td>0.0</td>\n      <td>-0.14065</td>\n      <td>-0.14065</td>\n      <td>-0.14065</td>\n      <td>-0.14065</td>\n      <td>-0.14065</td>\n      <td>-0.14065</td>\n      <td>-0.14065</td>\n      <td>-0.14065</td>\n      <td>-0.14065</td>\n      <td>...</td>\n      <td>1.000000</td>\n      <td>0.000000</td>\n      <td>0.897292</td>\n      <td>-0.054134</td>\n      <td>0.794007</td>\n      <td>-0.114823</td>\n      <td>0.967576</td>\n      <td>-0.016479</td>\n      <td>0.913658</td>\n      <td>-0.045119</td>\n    </tr>\n    <tr>\n      <th>2</th>\n      <td>0.0</td>\n      <td>-0.14065</td>\n      <td>-0.14065</td>\n      <td>-0.14065</td>\n      <td>-0.14065</td>\n      <td>-0.14065</td>\n      <td>-0.14065</td>\n      <td>-0.14065</td>\n      <td>-0.14065</td>\n      <td>-0.14065</td>\n      <td>...</td>\n      <td>1.000000</td>\n      <td>0.000000</td>\n      <td>0.897292</td>\n      <td>-0.054134</td>\n      <td>0.794007</td>\n      <td>-0.114823</td>\n      <td>0.967576</td>\n      <td>-0.016479</td>\n      <td>0.913658</td>\n      <td>-0.045119</td>\n    </tr>\n    <tr>\n      <th>3</th>\n      <td>0.0</td>\n      <td>0.21097</td>\n      <td>0.21097</td>\n      <td>0.21097</td>\n      <td>0.21097</td>\n      <td>0.21097</td>\n      <td>0.21097</td>\n      <td>0.21097</td>\n      <td>0.21097</td>\n      <td>0.21097</td>\n      <td>...</td>\n      <td>1.188710</td>\n      <td>0.086220</td>\n      <td>1.199119</td>\n      <td>0.090545</td>\n      <td>1.211650</td>\n      <td>0.095698</td>\n      <td>1.254026</td>\n      <td>0.112699</td>\n      <td>1.246215</td>\n      <td>0.109613</td>\n    </tr>\n    <tr>\n      <th>4</th>\n      <td>0.0</td>\n      <td>0.21097</td>\n      <td>0.21097</td>\n      <td>0.21097</td>\n      <td>0.21097</td>\n      <td>0.21097</td>\n      <td>0.21097</td>\n      <td>0.21097</td>\n      <td>0.21097</td>\n      <td>0.21097</td>\n      <td>...</td>\n      <td>1.172581</td>\n      <td>0.079436</td>\n      <td>1.172687</td>\n      <td>0.079481</td>\n      <td>1.172816</td>\n      <td>0.079535</td>\n      <td>1.246706</td>\n      <td>0.109808</td>\n      <td>1.230279</td>\n      <td>0.103251</td>\n    </tr>\n    <tr>\n      <th>5</th>\n      <td>0.0</td>\n      <td>0.21097</td>\n      <td>0.21097</td>\n      <td>0.21097</td>\n      <td>0.21097</td>\n      <td>0.21097</td>\n      <td>0.21097</td>\n      <td>0.21097</td>\n      <td>0.21097</td>\n      <td>0.21097</td>\n      <td>...</td>\n      <td>0.930645</td>\n      <td>-0.035923</td>\n      <td>0.908370</td>\n      <td>-0.048015</td>\n      <td>0.881553</td>\n      <td>-0.062951</td>\n      <td>1.027086</td>\n      <td>0.013362</td>\n      <td>0.991235</td>\n      <td>-0.004402</td>\n    </tr>\n    <tr>\n      <th>6</th>\n      <td>0.0</td>\n      <td>0.21097</td>\n      <td>0.21097</td>\n      <td>0.21097</td>\n      <td>0.21097</td>\n      <td>0.21097</td>\n      <td>0.21097</td>\n      <td>0.21097</td>\n      <td>0.21097</td>\n      <td>0.21097</td>\n      <td>...</td>\n      <td>1.017742</td>\n      <td>0.008793</td>\n      <td>1.051101</td>\n      <td>0.024914</td>\n      <td>1.091262</td>\n      <td>0.043640</td>\n      <td>1.066618</td>\n      <td>0.032235</td>\n      <td>1.077291</td>\n      <td>0.037208</td>\n    </tr>\n    <tr>\n      <th>7</th>\n      <td>0.0</td>\n      <td>0.21097</td>\n      <td>0.21097</td>\n      <td>0.21097</td>\n      <td>0.21097</td>\n      <td>0.21097</td>\n      <td>0.21097</td>\n      <td>0.21097</td>\n      <td>0.21097</td>\n      <td>0.21097</td>\n      <td>...</td>\n      <td>1.033871</td>\n      <td>0.016653</td>\n      <td>1.077533</td>\n      <td>0.037320</td>\n      <td>1.130097</td>\n      <td>0.061076</td>\n      <td>1.073939</td>\n      <td>0.035651</td>\n      <td>1.093227</td>\n      <td>0.044537</td>\n    </tr>\n    <tr>\n      <th>8</th>\n      <td>0.0</td>\n      <td>0.21097</td>\n      <td>0.21097</td>\n      <td>0.21097</td>\n      <td>0.21097</td>\n      <td>0.21097</td>\n      <td>0.21097</td>\n      <td>0.21097</td>\n      <td>0.21097</td>\n      <td>0.21097</td>\n      <td>...</td>\n      <td>1.038710</td>\n      <td>0.018987</td>\n      <td>1.085463</td>\n      <td>0.040980</td>\n      <td>1.141748</td>\n      <td>0.066183</td>\n      <td>1.076135</td>\n      <td>0.036671</td>\n      <td>1.098008</td>\n      <td>0.046715</td>\n    </tr>\n    <tr>\n      <th>9</th>\n      <td>0.0</td>\n      <td>0.21097</td>\n      <td>0.21097</td>\n      <td>0.21097</td>\n      <td>0.21097</td>\n      <td>0.21097</td>\n      <td>0.21097</td>\n      <td>0.21097</td>\n      <td>0.21097</td>\n      <td>0.21097</td>\n      <td>...</td>\n      <td>0.946269</td>\n      <td>-0.027607</td>\n      <td>0.935409</td>\n      <td>-0.033374</td>\n      <td>0.923577</td>\n      <td>-0.039730</td>\n      <td>1.031073</td>\n      <td>0.015299</td>\n      <td>1.002214</td>\n      <td>0.001106</td>\n    </tr>\n  </tbody>\n</table>\n<p>10 rows × 65 columns</p>\n</div>"
     },
     "execution_count": 73,
     "metadata": {},
     "output_type": "execute_result"
    }
   ],
   "source": [
    "data_2014_up[0].head(10)"
   ]
  },
  {
   "cell_type": "markdown",
   "metadata": {},
   "source": [
    "### Machine learning algorithms"
   ]
  },
  {
   "cell_type": "code",
   "execution_count": 74,
   "metadata": {
    "collapsed": false,
    "ExecuteTime": {
     "end_time": "2024-06-01T15:50:21.942975Z",
     "start_time": "2024-06-01T15:50:21.664901Z"
    }
   },
   "outputs": [],
   "source": [
    "models = {\n",
    "    'RandomForestClassifier': RandomForestClassifier(random_state = 0),\n",
    "    'ExtraTreesClassifier': ExtraTreesClassifier(random_state = 0),\n",
    "    # 'AdaBoostClassifier': AdaBoostClassifier(base_estimator = DecisionTreeClassifier(),n_estimators = 10,random_state = 0)\n",
    "    # 'GradientBoostingClassifier': GradientBoostingClassifier(random_state = 0),\n",
    "    # 'SVC': SVC(probability=True,random_state = 0),\n",
    "}"
   ]
  },
  {
   "cell_type": "markdown",
   "metadata": {},
   "source": [
    "### Grids for Hyperparameter Tuning"
   ]
  },
  {
   "cell_type": "code",
   "execution_count": 75,
   "metadata": {
    "collapsed": false,
    "ExecuteTime": {
     "end_time": "2024-06-01T15:50:21.943164Z",
     "start_time": "2024-06-01T15:50:21.670470Z"
    }
   },
   "outputs": [],
   "source": [
    "model_grid_params = {\n",
    "    'RandomForestClassifier': {'max_features':[None],'n_estimators':[10],'max_depth':[10],\\\n",
    "                               'min_samples_split':[2],'criterion':['entropy'],\\\n",
    "                               'min_samples_leaf':[3]},\n",
    "    'ExtraTreesClassifier': {'max_features':[None],'n_estimators':[10],'max_depth':[10],\\\n",
    "                             'min_samples_split':[2],'criterion':['entropy'],\\\n",
    "                             'min_samples_leaf':[3]},\n",
    "    'AdaBoostClassifier': {\"base_estimator__criterion\" : [\"entropy\"],\\\n",
    "                           \"base_estimator__max_depth\": [None],\\\n",
    "                           \"base_estimator__min_samples_leaf\" : [3],\\\n",
    "                           \"base_estimator__min_samples_split\" : [2],\\\n",
    "                           \"base_estimator__max_features\" : [None]},\n",
    "    'GradientBoostingClassifier': {'max_features':[None],'n_estimators':[10],'max_depth':[10],\\\n",
    "                                   'min_samples_split':[2],'min_samples_leaf':[3],\\\n",
    "                                   'learning_rate':[0.1],'subsample':[1.0]},\n",
    "    'SVC': [{'kernel':['rbf'],'gamma':[1e-1],'C':[1]},\\\n",
    "            {'kernel':['linear'],'C':[1,10]}]\n",
    "}"
   ]
  },
  {
   "cell_type": "markdown",
   "metadata": {},
   "source": [
    "### Model Selection Pipline"
   ]
  },
  {
   "cell_type": "code",
   "execution_count": 76,
   "metadata": {
    "collapsed": false,
    "ExecuteTime": {
     "end_time": "2024-06-01T15:50:21.943251Z",
     "start_time": "2024-06-01T15:50:21.678091Z"
    }
   },
   "outputs": [],
   "source": [
    "class Model_Selection:\n",
    "    \n",
    "    def __init__(self,models,model_grid_params,data_2014,latest_sec,pred_sec,day):\n",
    "        \n",
    "        self.models = models\n",
    "        self.model_grid = model_grid_params\n",
    "        self.data_2014 = data_2014\n",
    "        self.latest_sec = latest_sec\n",
    "        self.pred_sec = pred_sec\n",
    "        self.day = day\n",
    "        self.keys = models.keys()\n",
    "        self.best_score = {}\n",
    "        self.grid = {}\n",
    "        self.predict_values = {}\n",
    "        self.cv_acc = {}\n",
    "        self.acc = {}\n",
    "        self.fscore = {}\n",
    "        self.true_values = {}\n",
    "        self.predict_values_day = {}\n",
    "        self.cv_acc_day = {}\n",
    "        self.acc_day = {}\n",
    "        self.fscore_day = {}\n",
    "        self.true_values_day = {}\n",
    "        self.summary_day = []\n",
    "        \n",
    "    def Grid_fit(self,X_train,y_train,cv = 5,scoring = 'accuracy'):\n",
    "        \n",
    "        for key in self.keys:\n",
    "            print(\"Running GridSearchCV for %s.\" %(key))\n",
    "            model = self.models[key]\n",
    "            model_grid = self.model_grid[key]\n",
    "            Grid = GridSearchCV(model, model_grid, cv = cv, scoring = scoring)\n",
    "            Grid.fit(X_train,y_train) \n",
    "            self.grid[key] = Grid\n",
    "            print(Grid.best_params_)\n",
    "            print('CV Best Score = %s'%(Grid.best_score_))\n",
    "            self.cv_acc[key].append(Grid.best_score_)  \n",
    "    \n",
    "    def model_fit(self,X_train, y_train, X_test, y_test):\n",
    "        \n",
    "        for key in self.keys:\n",
    "            print(\"Running training & testing for %s.\" %(key))\n",
    "            model = self.models[key]\n",
    "            model.set_params(**self.grid[key].best_params_)\n",
    "            model.fit(X_train, y_train)\n",
    "            predictions = model.predict(X_test)\n",
    "            #print 'Prediction latest 15 second = %s'%(predictions)\n",
    "            self.predict_values[key].append(predictions.tolist())\n",
    "            self.true_values[key].append(y_test.tolist())\n",
    "            acc = metrics.accuracy_score(y_test,predictions)\n",
    "            f_score = metrics.f1_score(y_test,predictions)\n",
    "            print('Accuracy = %s'%(acc))\n",
    "            self.acc[key].append(acc)\n",
    "            self.fscore[key].append(f_score)\n",
    "            \n",
    "            if key == 'SVC':\n",
    "                if self.grid[key].best_params_.values()[0] == 'linear':\n",
    "                    feature_imp = dict(zip([i for i in range(0,64,1)],model.coef_[0]))\n",
    "                    Top_five = sorted(feature_imp.items(),key = lambda x : x[1] , reverse=True)[0:5]\n",
    "                    #print 'Kernel is linear and top five importance features = %s'%(Top_five)\n",
    "                else:\n",
    "                    #print 'Kernel is rbf'\n",
    "                    pass\n",
    "            else: \n",
    "                feature_imp = dict(zip([i for i in range(0,64,1)],model.feature_importances_))\n",
    "                Top_five = sorted(feature_imp.items(),key = lambda x : x[1] , reverse=True)[0:5]\n",
    "                #print 'Top five importance features = %s'%(Top_five)\n",
    "                pass\n",
    "\n",
    "    def pipline(self):\n",
    "        \n",
    "        self.set_list_day() # store day values\n",
    "        for day in range(0,self.day,1):\n",
    "            self.set_list() # store values\n",
    "            print('Day = %s'%(day+1))\n",
    "            for i in range(0,10,self.pred_sec):#9000-self.latest_sec-600,self.pred_sec):\n",
    "                \n",
    "                print('--------------------Rolling Window Time = %s--------------------'%(i/pred_sec))\n",
    "                # Train data\n",
    "                data_train = self.data_2014[day][i:i+self.latest_sec]\n",
    "                X_train = data_train.drop(['0'],axis=1)#,'65','66','67'],axis=1)\n",
    "                y_train = data_train['0']\n",
    "\n",
    "                # Test data\n",
    "                data_test = self.data_2014[day][i + self.latest_sec:i + self.latest_sec + self.pred_sec]\n",
    "                X_test = data_test.drop(['0'],axis=1)#,'65','66','67'],axis=1)\n",
    "                y_test = data_test['0']\n",
    "                \n",
    "                #start = time.time()\n",
    "                self.Grid_fit(X_train, y_train, cv = 5, scoring = 'accuracy')\n",
    "                self.model_fit(X_train, y_train,X_test,y_test)\n",
    "                end = time.time()\n",
    "                print('Total Time = %s'%(end - start))\n",
    "                \n",
    "            for key in self.keys:\n",
    "                \n",
    "                self.cv_acc_day[key].append(self.cv_acc[key])\n",
    "                self.acc_day[key].append(self.acc[key])\n",
    "                self.fscore_day[key].append(self.fscore[key])\n",
    "                self.true_values_day[key].append(self.true_values[key])\n",
    "                self.predict_values_day[key].append(self.predict_values[key])\n",
    "            \n",
    "            self.summary_day.append(self.score_summary(sort_by = 'Accuracy_mean'))\n",
    "    \n",
    "    def set_list(self):\n",
    "        \n",
    "        for key in self.keys:\n",
    "            self.predict_values[key] = []\n",
    "            self.cv_acc[key] = []\n",
    "            self.acc[key] = []\n",
    "            self.fscore[key] = []\n",
    "            self.true_values[key] = []\n",
    "            \n",
    "    def set_list_day(self):\n",
    "        \n",
    "        for key in self.keys:\n",
    "            self.predict_values_day[key] = []\n",
    "            self.cv_acc_day[key] = []\n",
    "            self.acc_day[key] = []\n",
    "            self.fscore_day[key] = []\n",
    "            self.true_values_day[key] = []\n",
    "            \n",
    "    def score_summary(self,sort_by):\n",
    "        \n",
    "        summary = pd.concat([pd.DataFrame(self.acc.keys()),pd.DataFrame(map(lambda x: mean(self.acc[x]), self.acc)),\\\n",
    "                             pd.DataFrame(map(lambda x: std(self.acc[x]), self.acc)),\\\n",
    "                             pd.DataFrame(map(lambda x: max(self.acc[x]), self.acc)),\\\n",
    "                             pd.DataFrame(map(lambda x: min(self.acc[x]), self.acc)),\\\n",
    "                             pd.DataFrame(map(lambda x: mean(self.fscore[x]), self.fscore))],axis=1)\n",
    "        summary.columns = ['Estimator','Accuracy_mean','Accuracy_std','Accuracy_max','Accuracy_min','F_score']\n",
    "        summary.index.rename('Ranking', inplace=True)\n",
    "        return summary.sort_values(by = [sort_by], ascending=False)\n",
    "          \n",
    "    def print_(self):\n",
    "        print(self.predict_values)\n"
   ]
  },
  {
   "cell_type": "code",
   "execution_count": 77,
   "metadata": {
    "collapsed": false,
    "ExecuteTime": {
     "end_time": "2024-06-01T15:50:21.943395Z",
     "start_time": "2024-06-01T15:50:21.689367Z"
    }
   },
   "outputs": [],
   "source": [
    "latest_sec = 60 * 30\n",
    "pred_sec = 10\n",
    "day = 1\n",
    "data_2014_up, data_2014_down = read_csv(day_trade)\n",
    "data_2014 = data_2014_up\n",
    "pip = Model_Selection(models,model_grid_params,data_2014,latest_sec,pred_sec,day)"
   ]
  },
  {
   "cell_type": "markdown",
   "metadata": {},
   "source": [
    "### Start Machine Learning Pipline"
   ]
  },
  {
   "cell_type": "code",
   "execution_count": 78,
   "metadata": {
    "collapsed": false,
    "scrolled": false,
    "ExecuteTime": {
     "end_time": "2024-06-01T15:50:22.857464Z",
     "start_time": "2024-06-01T15:50:21.838796Z"
    }
   },
   "outputs": [
    {
     "name": "stdout",
     "output_type": "stream",
     "text": [
      "Day = 1\n",
      "--------------------Rolling Window Time = 0.0--------------------\n",
      "Running GridSearchCV for RandomForestClassifier.\n",
      "{'criterion': 'entropy', 'max_depth': 10, 'max_features': None, 'min_samples_leaf': 3, 'min_samples_split': 2, 'n_estimators': 10}\n",
      "CV Best Score = 0.6805555555555556\n",
      "Running GridSearchCV for ExtraTreesClassifier.\n",
      "{'criterion': 'entropy', 'max_depth': 10, 'max_features': None, 'min_samples_leaf': 3, 'min_samples_split': 2, 'n_estimators': 10}\n",
      "CV Best Score = 0.7305555555555556\n",
      "Running training & testing for RandomForestClassifier.\n",
      "Accuracy = 0.9\n",
      "Running training & testing for ExtraTreesClassifier.\n",
      "Accuracy = 1.0\n",
      "Total Time = 1.0086650848388672\n",
      "Total Time = 1.0099620819091797\n"
     ]
    }
   ],
   "source": [
    "start = time.time()\n",
    "pip.pipline()\n",
    "end = time.time()\n",
    "print('Total Time = %s'%(end-start))"
   ]
  },
  {
   "cell_type": "markdown",
   "metadata": {},
   "source": [
    "### Metrics "
   ]
  },
  {
   "cell_type": "code",
   "execution_count": 79,
   "metadata": {
    "collapsed": false,
    "ExecuteTime": {
     "end_time": "2024-06-01T15:50:22.857829Z",
     "start_time": "2024-06-01T15:50:22.851868Z"
    }
   },
   "outputs": [
    {
     "data": {
      "text/plain": "[                      Estimator  Accuracy_mean  Accuracy_std  Accuracy_max  \\\n Ranking                                                                      \n 1          ExtraTreesClassifier            1.0           0.0           1.0   \n 0        RandomForestClassifier            0.9           0.0           0.9   \n \n          Accuracy_min   F_score  \n Ranking                          \n 1                 1.0  1.000000  \n 0                 0.9  0.947368  ]"
     },
     "execution_count": 79,
     "metadata": {},
     "output_type": "execute_result"
    }
   ],
   "source": [
    "pip.summary_day#.reset_index(drop = True)"
   ]
  },
  {
   "cell_type": "code",
   "execution_count": 80,
   "metadata": {
    "collapsed": false,
    "ExecuteTime": {
     "end_time": "2024-06-01T15:50:22.872880Z",
     "start_time": "2024-06-01T15:50:22.857684Z"
    }
   },
   "outputs": [],
   "source": [
    "# pip.summary_day[1]#.reset_index(drop = True)"
   ]
  },
  {
   "cell_type": "code",
   "execution_count": 81,
   "metadata": {
    "collapsed": false,
    "ExecuteTime": {
     "end_time": "2024-06-01T15:50:22.873071Z",
     "start_time": "2024-06-01T15:50:22.862696Z"
    }
   },
   "outputs": [],
   "source": [
    "# pip.summary_day[2]#.reset_index(drop = True)"
   ]
  },
  {
   "cell_type": "code",
   "execution_count": 82,
   "metadata": {
    "collapsed": false,
    "scrolled": true,
    "ExecuteTime": {
     "end_time": "2024-06-01T15:50:22.940364Z",
     "start_time": "2024-06-01T15:50:22.865739Z"
    }
   },
   "outputs": [
    {
     "ename": "IndexError",
     "evalue": "list index out of range",
     "output_type": "error",
     "traceback": [
      "\u001B[0;31m---------------------------------------------------------------------------\u001B[0m",
      "\u001B[0;31mIndexError\u001B[0m                                Traceback (most recent call last)",
      "Cell \u001B[0;32mIn[82], line 4\u001B[0m\n\u001B[1;32m      2\u001B[0m plt\u001B[38;5;241m.\u001B[39mfigure(figsize \u001B[38;5;241m=\u001B[39m (\u001B[38;5;241m18\u001B[39m,\u001B[38;5;241m6\u001B[39m))\n\u001B[1;32m      3\u001B[0m color_ \u001B[38;5;241m=\u001B[39m [\u001B[38;5;124m'\u001B[39m\u001B[38;5;124mr\u001B[39m\u001B[38;5;124m'\u001B[39m,\u001B[38;5;124m'\u001B[39m\u001B[38;5;124mb\u001B[39m\u001B[38;5;124m'\u001B[39m]\n\u001B[0;32m----> 4\u001B[0m plot(\u001B[43mdata_2014\u001B[49m\u001B[43m[\u001B[49m\u001B[38;5;241;43m1\u001B[39;49m\u001B[43m]\u001B[49m[\u001B[38;5;124m'\u001B[39m\u001B[38;5;124m66\u001B[39m\u001B[38;5;124m'\u001B[39m],label \u001B[38;5;241m=\u001B[39m \u001B[38;5;124m'\u001B[39m\u001B[38;5;124mBest Ask\u001B[39m\u001B[38;5;124m'\u001B[39m,color \u001B[38;5;241m=\u001B[39m color_[\u001B[38;5;241m1\u001B[39m])\n\u001B[1;32m      5\u001B[0m plot(data_2014[\u001B[38;5;241m1\u001B[39m][\u001B[38;5;124m'\u001B[39m\u001B[38;5;124m67\u001B[39m\u001B[38;5;124m'\u001B[39m],label \u001B[38;5;241m=\u001B[39m \u001B[38;5;124m'\u001B[39m\u001B[38;5;124mBest Bid\u001B[39m\u001B[38;5;124m'\u001B[39m,color \u001B[38;5;241m=\u001B[39m color_[\u001B[38;5;241m0\u001B[39m])\n\u001B[1;32m      6\u001B[0m plt\u001B[38;5;241m.\u001B[39mlegend(loc\u001B[38;5;241m=\u001B[39m\u001B[38;5;241m0\u001B[39m)\n",
      "\u001B[0;31mIndexError\u001B[0m: list index out of range"
     ]
    },
    {
     "data": {
      "text/plain": "<Figure size 1800x600 with 0 Axes>"
     },
     "metadata": {},
     "output_type": "display_data"
    }
   ],
   "source": [
    "sns.set_style(\"whitegrid\")\n",
    "plt.figure(figsize = (18,6))\n",
    "color_ = ['r','b']\n",
    "plot(data_2014[1]['66'],label = 'Best Ask',color = color_[1])\n",
    "plot(data_2014[1]['67'],label = 'Best Bid',color = color_[0])\n",
    "plt.legend(loc=0)\n",
    "plt.xlabel('Time(s)',size = 15)\n",
    "plt.ylabel('Price',size = 15)"
   ]
  },
  {
   "cell_type": "markdown",
   "metadata": {},
   "source": [
    "### Accuracy in one day"
   ]
  },
  {
   "cell_type": "code",
   "execution_count": null,
   "metadata": {
    "collapsed": false,
    "ExecuteTime": {
     "start_time": "2024-06-01T15:50:22.936818Z"
    }
   },
   "outputs": [],
   "source": [
    "sns.set_style(\"whitegrid\")\n",
    "plt.figure(figsize = (18,6))\n",
    "color = []\n",
    "for key in pip.keys:\n",
    "    plot(np.array(pip.acc_day[key])[0],'-o',label = key,lw = 1,markersize = 3)\n",
    "    plt.legend(loc=0)\n",
    "plt.ylim(-0.5,1.5)\n",
    "plt.legend(loc=0)\n",
    "plt.xlabel('Rolling Window Numbers',size = 15)\n",
    "plt.ylabel('Accuracy',size = 15)"
   ]
  },
  {
   "cell_type": "markdown",
   "metadata": {},
   "source": [
    "### Cross Validation "
   ]
  },
  {
   "cell_type": "code",
   "execution_count": null,
   "metadata": {
    "collapsed": false,
    "ExecuteTime": {
     "start_time": "2024-06-01T15:50:22.939119Z"
    }
   },
   "outputs": [],
   "source": [
    "sns.set_style(\"whitegrid\")\n",
    "plt.figure(figsize = (18,6))\n",
    "color_ = ['r','orange','y','g','b']\n",
    "for index,key in enumerate(pip.keys):\n",
    "    plot(np.array(pip.cv_acc_day[key])[0],'-o',label = key,color = color_[index],lw = 1,markersize = 3)\n",
    "#plot(best_cv_score,'-v',label = 'Best cv 5 folds score',color = 'violet',lw = 1,markersize = 6)\n",
    "plt.legend(loc=0)\n",
    "plt.xlabel('Rolling Window Numbers',size = 15)\n",
    "plt.ylabel('CV Mean Accuracy',size = 15)"
   ]
  },
  {
   "cell_type": "markdown",
   "metadata": {},
   "source": [
    "### Best Model"
   ]
  },
  {
   "cell_type": "code",
   "execution_count": null,
   "metadata": {
    "collapsed": false,
    "ExecuteTime": {
     "start_time": "2024-06-01T15:50:22.941261Z"
    }
   },
   "outputs": [],
   "source": [
    "sns.set_style(\"whitegrid\")\n",
    "plt.figure(figsize = (18,6))\n",
    "plot(best_cv_score,'-o',label = 'Best cv 5 folds score',color = 'violet',lw = 1,markersize = 5)\n",
    "plt.legend(loc=0)\n",
    "plt.xlabel('Rolling Window Numbers',size = 15)\n",
    "plt.ylabel('CV Mean Accuracy',size = 15)"
   ]
  },
  {
   "cell_type": "code",
   "execution_count": null,
   "metadata": {
    "collapsed": false,
    "ExecuteTime": {
     "end_time": "2024-06-01T15:50:22.943834Z",
     "start_time": "2024-06-01T15:50:22.943299Z"
    }
   },
   "outputs": [],
   "source": [
    "sns.set_style(\"whitegrid\")\n",
    "plt.figure(figsize = (18,6))\n",
    "color_ = ['r','orange','y','g','b']\n",
    "for index,key in enumerate(pip.keys):\n",
    "    plot(np.array(pip.cv_acc_day[key])[0][0:250],'-o',label = key,color = color_[index],lw = 1,markersize = 5)\n",
    "#plot(best_cv_score,'-v',label = 'Best cv 5 folds score',color = 'violet',lw = 1,markersize = 6)\n",
    "plt.legend(loc=0)\n",
    "plt.xlabel('Rolling Window Numbers',size = 15)\n",
    "plt.ylabel('CV Mean Accuracy',size = 15)\n",
    "plt.ylim(0.55,1)"
   ]
  },
  {
   "cell_type": "code",
   "execution_count": null,
   "metadata": {
    "collapsed": false,
    "scrolled": true,
    "ExecuteTime": {
     "end_time": "2024-06-01T15:50:22.957895Z",
     "start_time": "2024-06-01T15:50:22.944981Z"
    }
   },
   "outputs": [],
   "source": [
    "sns.set_style(\"whitegrid\")\n",
    "plt.figure(figsize = (18,6))\n",
    "plot(best_cv_score[0:250],'-o',label = 'Best cv 5 folds score',color = 'violet',lw = 1,markersize = 5)\n",
    "plt.legend(loc=0)\n",
    "plt.xlabel('Rolling Window Numbers',size = 15)\n",
    "plt.ylabel('CV Mean Accuracy',size = 15)\n",
    "plt.ylim(0.55,1)"
   ]
  },
  {
   "cell_type": "markdown",
   "metadata": {
    "collapsed": false,
    "scrolled": true
   },
   "source": [
    "### Profit & Loss"
   ]
  },
  {
   "cell_type": "code",
   "execution_count": null,
   "metadata": {
    "collapsed": false,
    "scrolled": true,
    "ExecuteTime": {
     "start_time": "2024-06-01T15:50:22.946316Z"
    }
   },
   "outputs": [],
   "source": [
    "# compute cum_profit and Best_cv_score\n",
    "dict_ = {}\n",
    "dict_['cum_profit'] = []\n",
    "dict_['Best_cv_score'] = []\n",
    "\n",
    "for day in range(0,1,1):\n",
    "    cum_profit_label = []\n",
    "    cum_profit = []\n",
    "    best_cv_score = []\n",
    "    spread = 0.2 * data_2014[day]['65'][1800:][9::10].values\n",
    "    loss = 0.2*(data_2014[0]['67'][1800:9000-600][9::10].values - data_2014[day]['67'][1800+600:9000][9::10].values)\n",
    "    for j in range(0,len(pip.cv_acc_day.values()[0][day]),1):\n",
    "        max_al = {}\n",
    "        for i in range(0,len(pip.keys),1):\n",
    "            max_al[pip.keys[i]] = np.array(pip.cv_acc_day[pip.keys[i]])[day][j]\n",
    "        # select best algorithm in cv = 5    \n",
    "        top_cv_acc = sorted(max_al.items(),key = lambda x : x[1], reverse = True)[0:1][0]\n",
    "        best_cv_score.append(top_cv_acc[1])\n",
    "        submission = pip.predict_values_day[top_cv_acc[0]][day][j][-1]\n",
    "        true_value = pip.true_values_day[top_cv_acc[0]][day][j][-1]\n",
    "\n",
    "        if submission == true_value:\n",
    "            if submission == 1:\n",
    "                cum_profit_label.append(1)\n",
    "                cum_profit.append(spread[j])\n",
    "            elif submission == 0:\n",
    "                cum_profit_label.append(0)\n",
    "                cum_profit.append(0)\n",
    "        elif submission != true_value:\n",
    "            if submission == 1:\n",
    "                cum_profit_label.append(-1)\n",
    "                cum_profit.append(loss[j])\n",
    "            elif submission == 0:\n",
    "                cum_profit_label.append(0)\n",
    "                cum_profit.append(0)\n",
    "                \n",
    "    dict_['cum_profit'].append(cum_profit)\n",
    "    dict_['Best_cv_score'].append(best_cv_score)"
   ]
  },
  {
   "cell_type": "code",
   "execution_count": null,
   "metadata": {
    "collapsed": false,
    "scrolled": true,
    "ExecuteTime": {
     "start_time": "2024-06-01T15:50:22.947629Z"
    }
   },
   "outputs": [],
   "source": [
    "sns.set_style(\"whitegrid\")\n",
    "plt.figure(figsize = (20,8))\n",
    "plt.subplot(211)\n",
    "plot(cum_profit,'-o',label = 'Profit & Loss',lw = 1,markersize = 3)\n",
    "plt.ylabel('Tick',size = 15)\n",
    "plt.legend(loc=0)\n",
    "plt.ylim(-7.5,2.5)\n",
    "plt.subplot(212)\n",
    "plot(cumsum(cum_profit),'-o',label = 'Cum Profit',lw = 1,markersize = 2)\n",
    "plt.legend(loc=0)\n",
    "plt.xlabel('Rolling Window Numbers',size = 15)\n",
    "plt.ylabel('Profit',size = 15)"
   ]
  }
 ],
 "metadata": {
  "kernelspec": {
   "name": "python3",
   "language": "python",
   "display_name": "Python 3 (ipykernel)"
  },
  "language_info": {
   "codemirror_mode": {
    "name": "ipython",
    "version": 2
   },
   "file_extension": ".py",
   "mimetype": "text/x-python",
   "name": "python",
   "nbconvert_exporter": "python",
   "pygments_lexer": "ipython2",
   "version": "2.7.13"
  }
 },
 "nbformat": 4,
 "nbformat_minor": 0
}
